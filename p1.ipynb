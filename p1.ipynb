{
 "cells": [
  {
   "cell_type": "code",
   "execution_count": 2,
   "metadata": {},
   "outputs": [
    {
     "name": "stdout",
     "output_type": "stream",
     "text": [
      "31.7\n"
     ]
    }
   ],
   "source": [
    "## Simple one neuron representation\n",
    "inputs = [1.2,2.9,3.4]\n",
    "weights = [2.1,3.4,4.8]\n",
    "bias = 3\n",
    "\n",
    "output = inputs[0]*weights[0] + inputs[1]*weights[1] + inputs[2]*weights[2] + bias\n",
    "\n",
    "print(output)"
   ]
  },
  {
   "cell_type": "markdown",
   "metadata": {},
   "source": [
    "# 3 neurons with 4 inputs Neural Network..."
   ]
  },
  {
   "cell_type": "code",
   "execution_count": 3,
   "metadata": {},
   "outputs": [
    {
     "name": "stdout",
     "output_type": "stream",
     "text": [
      "[33.1, 7.139999999999999, 24.11]\n"
     ]
    }
   ],
   "source": [
    "inputs = [1.2,2.1,3.1,4.1]\n",
    "\n",
    "weights1 = [1,2,3,4]\n",
    "weights2 = [2.1,-4.2,3.5,-0.1]\n",
    "weights3 = [0.3,-2.2,3.1,3.6]\n",
    "\n",
    "bias1 = 2\n",
    "bias2 = 3\n",
    "bias3 = 4\n",
    "\n",
    "output = [inputs[0]*weights1[0] + inputs[1]*weights1[1] + inputs[2]*weights1[2] + inputs[3]*weights1[3] + bias1,\n",
    "          inputs[0]*weights2[0] + inputs[1]*weights2[1] + inputs[2]*weights2[2] + inputs[3]*weights2[3] + bias2,\n",
    "          inputs[0]*weights3[0] + inputs[1]*weights3[1] + inputs[2]*weights3[2] + inputs[3]*weights3[3] + bias3,]\n",
    "\n",
    "print(output)"
   ]
  },
  {
   "cell_type": "markdown",
   "metadata": {},
   "source": [
    "# Using DOT Product in Numpy to calculate the Output of Neuron"
   ]
  },
  {
   "cell_type": "code",
   "execution_count": 8,
   "metadata": {},
   "outputs": [],
   "source": [
    "import numpy as np \n",
    "inputs = [[1.1,2.4,2.4,5.5],\n",
    "          [2.4,1.4,1.5,4.6],\n",
    "          [2.4,1.5,5.6,1.4]]\n",
    "          \n",
    "\n",
    "weights = [[-0.4,8.4,0.3,-0.6],\n",
    "           [-2.3,-9.3,-4.5,1.2],\n",
    "           [3.4,-1.2,-0.4,1.3]]\n",
    "\n",
    "biases = [1,2,3]"
   ]
  },
  {
   "cell_type": "markdown",
   "metadata": {},
   "source": [
    "# Adding one more layer "
   ]
  },
  {
   "cell_type": "code",
   "execution_count": 10,
   "metadata": {},
   "outputs": [
    {
     "name": "stdout",
     "output_type": "stream",
     "text": [
      "[[-376.788    -7.336    15.747 ]\n",
      " [-347.96    -12.0796   -8.485 ]\n",
      " [-367.038   -41.0692   22.515 ]]\n"
     ]
    }
   ],
   "source": [
    "weightts2 = [[-1.2, 2.4, -6.4],\n",
    "             [-0.4, -0.12, -3],\n",
    "             [1.3, -1.4, -1.5]]\n",
    "\n",
    "\n",
    "biass2 = [-1,2,0.5]\n",
    "\n",
    "layer_1_outputs = np.dot(inputs, np.array(weights).T + biases)\n",
    "layer_2_outputs = np.dot(layer_1_outputs, np.array(weightts2).T + biass2)\n",
    "\n",
    "print(layer_2_outputs)"
   ]
  },
  {
   "cell_type": "code",
   "execution_count": null,
   "metadata": {},
   "outputs": [],
   "source": []
  }
 ],
 "metadata": {
  "kernelspec": {
   "display_name": "env",
   "language": "python",
   "name": "python3"
  },
  "language_info": {
   "codemirror_mode": {
    "name": "ipython",
    "version": 3
   },
   "file_extension": ".py",
   "mimetype": "text/x-python",
   "name": "python",
   "nbconvert_exporter": "python",
   "pygments_lexer": "ipython3",
   "version": "3.11.4"
  }
 },
 "nbformat": 4,
 "nbformat_minor": 2
}
